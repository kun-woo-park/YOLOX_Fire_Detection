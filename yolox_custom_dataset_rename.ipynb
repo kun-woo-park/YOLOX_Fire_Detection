{
 "cells": [
  {
   "cell_type": "code",
   "execution_count": 2,
   "id": "editorial-quantum",
   "metadata": {},
   "outputs": [],
   "source": [
    "import os\n",
    "import glob\n",
    "import xml.etree.ElementTree as ET"
   ]
  },
  {
   "cell_type": "code",
   "execution_count": 2,
   "id": "sized-chicken",
   "metadata": {},
   "outputs": [],
   "source": [
    "fire_dataset_dir = \"./datasets/fire_dataset_pre\"\n",
    "xml_target = \"/*.xml\""
   ]
  },
  {
   "cell_type": "code",
   "execution_count": 3,
   "id": "aggregate-headquarters",
   "metadata": {},
   "outputs": [],
   "source": [
    "path_list = glob.glob(os.path.join(fire_dataset_dir) + xml_target)\n",
    "path_list = list(map(lambda x: x[:-4], path_list))\n",
    "for j, path in enumerate(path_list):\n",
    "    targetXML = open((path + \".xml\"), 'rt', encoding='UTF8')\n",
    "    tree = ET.parse(targetXML)\n",
    "    root = tree.getroot()\n",
    "\n",
    "    target_tag = root.find(\"path\")\n",
    "    original = target_tag.text\n",
    "    modified = original.replace(original, (str(j) + \".jpg\"))\n",
    "    target_tag.text = modified\n",
    "        \n",
    "    target_tag = root.find(\"filename\")\n",
    "    original = target_tag.text\n",
    "    modified = original.replace(original, (str(j) + \".jpg\"))\n",
    "    target_tag.text = modified\n",
    "\n",
    "    tree.write((path + \".xml\"))\n",
    "\n",
    "    os.rename((path + \".jpg\"), os.path.join(fire_dataset_dir) + \"/\" + str(j) + \".jpg\")\n",
    "    os.rename((path + \".xml\"), os.path.join(fire_dataset_dir) + \"/\" + str(j) + \".xml\")"
   ]
  },
  {
   "cell_type": "code",
   "execution_count": 3,
   "id": "willing-integrity",
   "metadata": {},
   "outputs": [],
   "source": [
    "fire_dataset_dir = \"./datasets/fire_dataset/VOC2021/\"\n",
    "imgset_dir = fire_dataset_dir + \"ImageSets\""
   ]
  },
  {
   "cell_type": "code",
   "execution_count": 4,
   "id": "comparable-advance",
   "metadata": {},
   "outputs": [],
   "source": [
    "train = open(imgset_dir + \"/Main/train.txt\", 'w')\n",
    "test = open(imgset_dir + \"/Main/test.txt\", 'w')\n",
    "for i in range(len(os.listdir(fire_dataset_dir + \"Annotations\"))):\n",
    "    data = \"%d\\n\" % i\n",
    "    if i < 100:\n",
    "        test.write(data)\n",
    "    if 100 <= i:\n",
    "        train.write(data)\n",
    "train.close()\n",
    "test.close()"
   ]
  },
  {
   "cell_type": "code",
   "execution_count": null,
   "id": "passive-hawaii",
   "metadata": {},
   "outputs": [],
   "source": []
  }
 ],
 "metadata": {
  "kernelspec": {
   "display_name": "Python 3",
   "language": "python",
   "name": "python3"
  },
  "language_info": {
   "codemirror_mode": {
    "name": "ipython",
    "version": 3
   },
   "file_extension": ".py",
   "mimetype": "text/x-python",
   "name": "python",
   "nbconvert_exporter": "python",
   "pygments_lexer": "ipython3",
   "version": "3.7.3"
  }
 },
 "nbformat": 4,
 "nbformat_minor": 5
}
